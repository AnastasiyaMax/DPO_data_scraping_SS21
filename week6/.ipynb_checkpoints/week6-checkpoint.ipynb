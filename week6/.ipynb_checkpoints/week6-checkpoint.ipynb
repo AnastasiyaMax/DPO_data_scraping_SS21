{
 "cells": [
  {
   "cell_type": "markdown",
   "metadata": {},
   "source": [
    "## Selenium – Продолжение"
   ]
  },
  {
   "cell_type": "code",
   "execution_count": 1,
   "metadata": {},
   "outputs": [],
   "source": [
    "import pandas as pd\n",
    "import requests\n",
    "from bs4 import BeautifulSoup\n",
    "from selenium import webdriver\n"
   ]
  },
  {
   "cell_type": "code",
   "execution_count": 2,
   "metadata": {},
   "outputs": [
    {
     "name": "stderr",
     "output_type": "stream",
     "text": [
      "\n",
      "\n",
      "====== WebDriver manager ======\n",
      "Current google-chrome version is 91.0.4472\n",
      "Get LATEST driver version for 91.0.4472\n",
      "Get LATEST driver version for 91.0.4472\n",
      "Trying to download new driver from https://chromedriver.storage.googleapis.com/91.0.4472.101/chromedriver_mac64.zip\n",
      "Driver has been saved in cache [/Users/a18509896/.wdm/drivers/chromedriver/mac64/91.0.4472.101]\n"
     ]
    }
   ],
   "source": [
    "# maybe needed\n",
    "#! pip3 install pip install webdriver-manager\n",
    "\n",
    "\n",
    "from webdriver_manager.chrome import ChromeDriverManager\n",
    "driver = webdriver.Chrome(ChromeDriverManager().install())"
   ]
  },
  {
   "cell_type": "code",
   "execution_count": 3,
   "metadata": {},
   "outputs": [],
   "source": [
    "### (1) basic\n",
    "# from selenium import webdriver\n",
    "# driver =  webdriver.Chrome(executable_path='./chromedriver',)\n",
    "\n",
    "# 403\n"
   ]
  },
  {
   "cell_type": "code",
   "execution_count": 4,
   "metadata": {},
   "outputs": [],
   "source": [
    "### (2) selenium + UserAgent\n",
    "# https://stackoverflow.com/questions/29916054/change-user-agent-for-selenium-web-driver\n",
    "\n",
    "# from selenium.webdriver.chrome.options import Options\n",
    "# from fake_useragent import UserAgent\n",
    "\n",
    "# opts = Options()\n",
    "# opts.add_argument(f\"user-agent={UserAgent(verify_ssl=False).chrome}\")\n",
    "# driver = webdriver.Chrome(executable_path='./chromedriver', options=opts)\n",
    "\n",
    "# # capcha + 200"
   ]
  },
  {
   "cell_type": "code",
   "execution_count": 5,
   "metadata": {},
   "outputs": [],
   "source": [
    "# ### (3) selenium + tor in chrome\n",
    "# # https://stackoverflow.com/questions/55689701/how-to-use-tor-with-chrome-browser-through-selenium\n",
    "# from selenium import webdriver\n",
    "# import os\n",
    "\n",
    "# # To use Tor's SOCKS proxy server with chrome, \n",
    "# # include the socks protocol in the scheme with the --proxy-server option\n",
    "# # PROXY = \"socks5://127.0.0.1:9150\" # IP:PORT or HOST:PORT\n",
    "\n",
    "# #torexe = os.popen(r'C:\\Users\\Debanjan.B\\Desktop\\Tor Browser\\Browser\\TorBrowser\\Tor\\tor.exe')\n",
    "\n",
    "# # беру ip-адрес из TOR-сети\n",
    "# PROXY = \"socks5://localhost:9150\" # IP:PORT or HOST:PORT\n",
    "# options = webdriver.ChromeOptions()\n",
    "# options.add_argument('--proxy-server=%s' % PROXY)\n",
    "# driver = webdriver.Chrome(options=options, executable_path='./chromedriver')\n",
    "\n",
    "# # no capcha + 200"
   ]
  },
  {
   "cell_type": "code",
   "execution_count": 6,
   "metadata": {},
   "outputs": [],
   "source": [
    "url = \"https://www.whoscored.com/Teams/167\"\n",
    "driver.get(url)"
   ]
  },
  {
   "cell_type": "code",
   "execution_count": 7,
   "metadata": {},
   "outputs": [
    {
     "data": {
      "text/plain": [
       "'\\n\\n\\n\\n\\n\\n\\n\\n\\n\\n\\n\\n\\n\\n\\n        \\n    \\n    \\n    Manchester City - Football Statistics | WhoScored.com\\n\\n\\n\\n    \\n\\n\\n\\n\\n\\n\\n\\n\\n\\n\\n\\n\\n\\n\\n\\n\\n\\n\\n\\n\\n\\n\\n\\n\\n\\n\\n\\n\\n\\n\\n\\n\\n\\n\\n\\n\\n\\n\\n15:11\\n\\n\\n\\n\\n\\n                        EN\\n                    \\n\\n  '"
      ]
     },
     "execution_count": 7,
     "metadata": {},
     "output_type": "execute_result"
    }
   ],
   "source": [
    "html = driver.page_source\n",
    "tree = BeautifulSoup(html, 'html.parser')\n",
    "tree.text[:200]"
   ]
  },
  {
   "cell_type": "code",
   "execution_count": 8,
   "metadata": {},
   "outputs": [
    {
     "data": {
      "text/plain": [
       "'<table class=\"grid with-centered-columns hover\" id=\"top-player-stats-summary-grid\"><thead id=\"player-table-statistics-head\"><tr><th class=\"col12-lg-2 col12-m-3 col12-s-4 col12-xs-5 grid-abs\">Player</t'"
      ]
     },
     "execution_count": 8,
     "metadata": {},
     "output_type": "execute_result"
    }
   ],
   "source": [
    "str_html = str(tree.find_all('table', {'id':'top-player-stats-summary-grid'})[0])\n",
    "str_html[:200]"
   ]
  },
  {
   "cell_type": "code",
   "execution_count": 9,
   "metadata": {},
   "outputs": [
    {
     "data": {
      "text/html": [
       "<div>\n",
       "<style scoped>\n",
       "    .dataframe tbody tr th:only-of-type {\n",
       "        vertical-align: middle;\n",
       "    }\n",
       "\n",
       "    .dataframe tbody tr th {\n",
       "        vertical-align: top;\n",
       "    }\n",
       "\n",
       "    .dataframe thead th {\n",
       "        text-align: right;\n",
       "    }\n",
       "</style>\n",
       "<table border=\"1\" class=\"dataframe\">\n",
       "  <thead>\n",
       "    <tr style=\"text-align: right;\">\n",
       "      <th></th>\n",
       "      <th>Player</th>\n",
       "      <th>Player.1</th>\n",
       "      <th>CM</th>\n",
       "      <th>KG</th>\n",
       "      <th>Apps</th>\n",
       "      <th>Mins</th>\n",
       "      <th>Goals</th>\n",
       "      <th>Assists</th>\n",
       "      <th>Yel</th>\n",
       "      <th>Red</th>\n",
       "      <th>SpG</th>\n",
       "      <th>PS%</th>\n",
       "      <th>AerialsWon</th>\n",
       "      <th>MotM</th>\n",
       "      <th>Rating</th>\n",
       "    </tr>\n",
       "  </thead>\n",
       "  <tbody>\n",
       "    <tr>\n",
       "      <th>0</th>\n",
       "      <td>1Kevin De Bruyne29, M(CLR),FW</td>\n",
       "      <td>Kevin De Bruyne 29, M(CLR),FW</td>\n",
       "      <td>181</td>\n",
       "      <td>68</td>\n",
       "      <td>23(2)</td>\n",
       "      <td>2001</td>\n",
       "      <td>6</td>\n",
       "      <td>12</td>\n",
       "      <td>1</td>\n",
       "      <td>-</td>\n",
       "      <td>3.2</td>\n",
       "      <td>81.7</td>\n",
       "      <td>0.2</td>\n",
       "      <td>8</td>\n",
       "      <td>7.65</td>\n",
       "    </tr>\n",
       "    <tr>\n",
       "      <th>1</th>\n",
       "      <td>2Riyad Mahrez30, AM(CLR)</td>\n",
       "      <td>Riyad Mahrez 30, AM(CLR)</td>\n",
       "      <td>179</td>\n",
       "      <td>67</td>\n",
       "      <td>23(4)</td>\n",
       "      <td>1955</td>\n",
       "      <td>9</td>\n",
       "      <td>6</td>\n",
       "      <td>-</td>\n",
       "      <td>-</td>\n",
       "      <td>2.1</td>\n",
       "      <td>88.4</td>\n",
       "      <td>0.6</td>\n",
       "      <td>4</td>\n",
       "      <td>7.31</td>\n",
       "    </tr>\n",
       "    <tr>\n",
       "      <th>2</th>\n",
       "      <td>3João Cancelo27, D(LR),M(R)</td>\n",
       "      <td>João Cancelo 27, D(LR),M(R)</td>\n",
       "      <td>182</td>\n",
       "      <td>74</td>\n",
       "      <td>27(1)</td>\n",
       "      <td>2302</td>\n",
       "      <td>2</td>\n",
       "      <td>3</td>\n",
       "      <td>5</td>\n",
       "      <td>1</td>\n",
       "      <td>1.3</td>\n",
       "      <td>87.1</td>\n",
       "      <td>1.1</td>\n",
       "      <td>2</td>\n",
       "      <td>7.31</td>\n",
       "    </tr>\n",
       "    <tr>\n",
       "      <th>3</th>\n",
       "      <td>4Ilkay Gündogan30, M(C)</td>\n",
       "      <td>Ilkay Gündogan 30, M(C)</td>\n",
       "      <td>180</td>\n",
       "      <td>80</td>\n",
       "      <td>23(5)</td>\n",
       "      <td>2031</td>\n",
       "      <td>13</td>\n",
       "      <td>2</td>\n",
       "      <td>1</td>\n",
       "      <td>-</td>\n",
       "      <td>1.9</td>\n",
       "      <td>91.7</td>\n",
       "      <td>0.4</td>\n",
       "      <td>2</td>\n",
       "      <td>7.29</td>\n",
       "    </tr>\n",
       "    <tr>\n",
       "      <th>4</th>\n",
       "      <td>5Raheem Sterling26, M(CLR),FW</td>\n",
       "      <td>Raheem Sterling 26, M(CLR),FW</td>\n",
       "      <td>170</td>\n",
       "      <td>69</td>\n",
       "      <td>28(3)</td>\n",
       "      <td>2537</td>\n",
       "      <td>10</td>\n",
       "      <td>7</td>\n",
       "      <td>4</td>\n",
       "      <td>-</td>\n",
       "      <td>2.3</td>\n",
       "      <td>86.2</td>\n",
       "      <td>0.3</td>\n",
       "      <td>4</td>\n",
       "      <td>7.22</td>\n",
       "    </tr>\n",
       "  </tbody>\n",
       "</table>\n",
       "</div>"
      ],
      "text/plain": [
       "                          Player                       Player.1   CM  KG  \\\n",
       "0  1Kevin De Bruyne29, M(CLR),FW  Kevin De Bruyne 29, M(CLR),FW  181  68   \n",
       "1       2Riyad Mahrez30, AM(CLR)       Riyad Mahrez 30, AM(CLR)  179  67   \n",
       "2    3João Cancelo27, D(LR),M(R)    João Cancelo 27, D(LR),M(R)  182  74   \n",
       "3        4Ilkay Gündogan30, M(C)        Ilkay Gündogan 30, M(C)  180  80   \n",
       "4  5Raheem Sterling26, M(CLR),FW  Raheem Sterling 26, M(CLR),FW  170  69   \n",
       "\n",
       "    Apps  Mins Goals Assists Yel Red  SpG   PS% AerialsWon MotM  Rating  \n",
       "0  23(2)  2001     6      12   1   -  3.2  81.7        0.2    8    7.65  \n",
       "1  23(4)  1955     9       6   -   -  2.1  88.4        0.6    4    7.31  \n",
       "2  27(1)  2302     2       3   5   1  1.3  87.1        1.1    2    7.31  \n",
       "3  23(5)  2031    13       2   1   -  1.9  91.7        0.4    2    7.29  \n",
       "4  28(3)  2537    10       7   4   -  2.3  86.2        0.3    4    7.22  "
      ]
     },
     "execution_count": 9,
     "metadata": {},
     "output_type": "execute_result"
    }
   ],
   "source": [
    "df = pd.read_html(str_html)[0]\n",
    "df.head()"
   ]
  },
  {
   "cell_type": "code",
   "execution_count": 10,
   "metadata": {},
   "outputs": [],
   "source": [
    "# close webdriver\n",
    "driver.close()\n"
   ]
  },
  {
   "cell_type": "markdown",
   "metadata": {},
   "source": [
    "## Пример работы с базами данных в Python"
   ]
  },
  {
   "cell_type": "markdown",
   "metadata": {},
   "source": [
    "См. соседнюю папку."
   ]
  },
  {
   "cell_type": "markdown",
   "metadata": {},
   "source": [
    "## Работа с pdf-файлами\n",
    "\n",
    "Примеры библиотек для работы с pdf-файлами:\n",
    "- PyPDF\n",
    "- Pdfplumber\n",
    "- Pdfminer\n",
    "- Tika\n",
    "- Pdftotext\n",
    "- PyMuPDF\n",
    "- Slate\n",
    "- Camelot\n",
    "- Tabula-py\n",
    "- Textract\n",
    "- $\\ldots$"
   ]
  },
  {
   "cell_type": "code",
   "execution_count": 2,
   "metadata": {},
   "outputs": [],
   "source": [
    "#!pip install PyMuPDF"
   ]
  },
  {
   "cell_type": "code",
   "execution_count": 3,
   "metadata": {},
   "outputs": [],
   "source": [
    "import fitz"
   ]
  },
  {
   "cell_type": "code",
   "execution_count": 35,
   "metadata": {},
   "outputs": [],
   "source": [
    "doc = fitz.open('gad.pdf')"
   ]
  },
  {
   "cell_type": "code",
   "execution_count": 36,
   "metadata": {},
   "outputs": [
    {
     "data": {
      "text/plain": [
       "Document('gad.pdf')"
      ]
     },
     "execution_count": 36,
     "metadata": {},
     "output_type": "execute_result"
    }
   ],
   "source": [
    "doc"
   ]
  },
  {
   "cell_type": "code",
   "execution_count": 37,
   "metadata": {},
   "outputs": [
    {
     "data": {
      "text/plain": [
       "fitz.fitz.Document"
      ]
     },
     "execution_count": 37,
     "metadata": {},
     "output_type": "execute_result"
    }
   ],
   "source": [
    "type(doc)"
   ]
  },
  {
   "cell_type": "code",
   "execution_count": 38,
   "metadata": {},
   "outputs": [
    {
     "data": {
      "text/plain": [
       "10"
      ]
     },
     "execution_count": 38,
     "metadata": {},
     "output_type": "execute_result"
    }
   ],
   "source": [
    "doc.pageCount"
   ]
  },
  {
   "cell_type": "code",
   "execution_count": 39,
   "metadata": {},
   "outputs": [
    {
     "data": {
      "text/plain": [
       "[]"
      ]
     },
     "execution_count": 39,
     "metadata": {},
     "output_type": "execute_result"
    }
   ],
   "source": [
    "doc.getToC()"
   ]
  },
  {
   "cell_type": "code",
   "execution_count": 40,
   "metadata": {},
   "outputs": [
    {
     "data": {
      "text/plain": [
       "page 2 of gad.pdf"
      ]
     },
     "execution_count": 40,
     "metadata": {},
     "output_type": "execute_result"
    }
   ],
   "source": [
    "doc.loadPage(2)"
   ]
  },
  {
   "cell_type": "code",
   "execution_count": 41,
   "metadata": {},
   "outputs": [
    {
     "data": {
      "text/plain": [
       "'Geometry-Aware Distillation for Indoor Semantic Segmentation\\nJianbo Jiao1, Yunchao Wei2∗, Zequn Jie3, Honghui Shi4, Rynson Lau5, Thomas S. Huang2\\n1Department of Engineering Science, University of Oxford\\n2UIUC, 3Tencent AI Lab, 4IBM Research, 5City University of Hong Kong\\njianbo@robots.ox.ac.uk, {wychao1987, zequn.nus, shihonghui3}@gmail.com\\nrynson.lau@cityu.edu.hk, t-huang1@illinois.edu\\nAbstract\\nIt has been shown that jointly reasoning the 2D appear-\\nance and 3D information from RGB-D domains is beneficial\\nto indoor scene semantic segmentation. However, most ex-\\nisting approaches require accurate depth map as input to\\nsegment the scene which severely limits their applications.\\nIn this paper, we propose to jointly infer the semantic and\\ndepth information by distilling geometry-aware embedding\\nto eliminate such strong constraint while still exploiting the\\nhelpful depth domain information. In addition, we use this\\nlearned embedding to improve the quality of semantic seg-\\nmentation, through a proposed geometry-aware propaga-\\ntion framework followed by several multi-level skip feature\\nfusion blocks. By decoupling the single task prediction net-\\nwork into two joint tasks of semantic segmentation and ge-\\nometry embedding learning, together with the proposed in-\\nformation propagation and feature fusion architecture, our\\nmethod is shown to perform favorably against state-of-the-\\nart methods for semantic segmentation on publicly avail-\\nable challenging indoor datasets.\\n1. Introduction\\nSemantic segmentation that infers semantic labels of ev-\\nery pixel in an indoor scene is a fundamental yet challeng-\\ning problem in computer vision. Obtaining better scene un-\\nderstanding by semantic segmentation benefits many appli-\\ncations like robotics, visual SLAM and virtual/augmented\\nreality. Compared with RGB image based methods, RGB\\nwith depth (RGB-D) based methods can leverage addi-\\ntional 3D geometry information from the scene to effec-\\ntively tackle ambiguities that are challenging for 2D appear-\\nance solely approaches, e.g., some pillows on a bed with\\nsimilar color as the bed (Figure 1).\\nPrior RGB-D semantic segmentation methods have\\nachieved promising performance by incorporating the depth\\n∗Corresponding author\\n(a)\\n(b)\\nDepEm\\nGround-truth\\nFigure 1. Illustration on the effectiveness of (b) distilling\\ngeometry-aware depth embeddings compared to (a) the traditional\\nRGB, for semantic segmentation.\\ninformation [33, 12, 34, 13, 11, 6, 32]. There are mainly\\ntwo types of approaches to achieve the goal: using hand-\\ncrafted features or deploying CNN-based models. Earlier\\nworks use handcrafted image descriptors like SIFT or HOG\\nto extract features from the RGB images. Some specially\\ndesigned features (e.g., surface normal [34], depth gradi-\\nent or spin [33]) for depth description are also used to as-\\nsist the final segmentation. For CNN-based models, fully\\nconvolutional networks (FCN) [28] greatly improve the per-\\nformance for semantic segmentation due to the highly rep-\\nresentative features extracted by a learning manner.\\nIn\\ngeneral, two separate FCNs are utilized to extract features\\nfrom RGB and depth channels, followed by a simple fu-\\nsion [28, 11] for semantic label prediction.\\nAll the aforementioned approaches require ground-truth\\ndepth map associated with the input RGB images. However,\\ncollecting depth data from the scene is not convenient com-\\npared to RGB image capturing and the alignment between\\ndepth and RGB is a challenging problem itself. Therefore,\\nwe are interested in such a question: is that possible to in-\\ncorporate the geometry information for semantic segmenta-\\ntion with only one single RGB image as input?\\nSome research attempts [37] have been proposed to pre-\\n'"
      ]
     },
     "execution_count": 41,
     "metadata": {},
     "output_type": "execute_result"
    }
   ],
   "source": [
    "doc.loadPage(0).getText()"
   ]
  },
  {
   "cell_type": "code",
   "execution_count": 42,
   "metadata": {},
   "outputs": [],
   "source": [
    "text = ''\n",
    "\n",
    "for p in range(doc.pageCount):\n",
    "    text += doc.loadPage(p).getText()"
   ]
  },
  {
   "cell_type": "code",
   "execution_count": 44,
   "metadata": {
    "scrolled": false
   },
   "outputs": [],
   "source": [
    "# text"
   ]
  },
  {
   "cell_type": "code",
   "execution_count": 45,
   "metadata": {},
   "outputs": [
    {
     "data": {
      "text/plain": [
       "[(37, 55, 336, 252, 8, 'ICCBased', '', 'Im2', 'FlateDecode'),\n",
       " (38, 57, 43, 187, 8, 'ICCBased', '', 'Im6', 'FlateDecode'),\n",
       " (39, 59, 226, 43, 8, 'ICCBased', '', 'Im7', 'FlateDecode'),\n",
       " (40, 61, 366, 282, 8, 'ICCBased', '', 'Im9', 'FlateDecode'),\n",
       " (41, 63, 198, 99, 8, 'ICCBased', '', 'Im8', 'FlateDecode'),\n",
       " (42, 65, 336, 252, 8, 'ICCBased', '', 'Im10', 'FlateDecode'),\n",
       " (43, 67, 335, 252, 8, 'ICCBased', '', 'Im3', 'FlateDecode'),\n",
       " (44, 69, 170, 273, 8, 'ICCBased', '', 'Im4', 'FlateDecode'),\n",
       " (45, 71, 184, 145, 8, 'ICCBased', '', 'Im5', 'FlateDecode'),\n",
       " (46, 0, 640, 480, 8, 'ICCBased', '', 'Im1', 'FlateDecode')]"
      ]
     },
     "execution_count": 45,
     "metadata": {},
     "output_type": "execute_result"
    }
   ],
   "source": [
    "doc.getPageImageList(0)"
   ]
  },
  {
   "cell_type": "code",
   "execution_count": 46,
   "metadata": {},
   "outputs": [],
   "source": [
    "for p in range(doc.pageCount):\n",
    "    page = doc.loadPage(p)\n",
    "    for img in doc.getPageImageList(p):\n",
    "        xref = img[0]\n",
    "        pix = fitz.Pixmap(doc, xref)\n",
    "        pix.writePNG(f'{p}_dj.png')"
   ]
  },
  {
   "cell_type": "code",
   "execution_count": 47,
   "metadata": {},
   "outputs": [],
   "source": [
    "doc.close()"
   ]
  },
  {
   "cell_type": "markdown",
   "metadata": {},
   "source": [
    "## Работа с xml-файлами"
   ]
  },
  {
   "cell_type": "code",
   "execution_count": 3,
   "metadata": {},
   "outputs": [],
   "source": [
    "import xml.etree.ElementTree as ET"
   ]
  },
  {
   "cell_type": "code",
   "execution_count": 4,
   "metadata": {},
   "outputs": [],
   "source": [
    "xml_file = ET.parse('example_file.xml')"
   ]
  },
  {
   "cell_type": "code",
   "execution_count": 6,
   "metadata": {},
   "outputs": [
    {
     "data": {
      "text/plain": [
       "xml.etree.ElementTree.ElementTree"
      ]
     },
     "execution_count": 6,
     "metadata": {},
     "output_type": "execute_result"
    }
   ],
   "source": [
    "type(xml_file)"
   ]
  },
  {
   "cell_type": "code",
   "execution_count": 7,
   "metadata": {},
   "outputs": [],
   "source": [
    "root = xml_file.getroot()"
   ]
  },
  {
   "cell_type": "code",
   "execution_count": 8,
   "metadata": {},
   "outputs": [
    {
     "data": {
      "text/plain": [
       "xml.etree.ElementTree.Element"
      ]
     },
     "execution_count": 8,
     "metadata": {},
     "output_type": "execute_result"
    }
   ],
   "source": [
    "type(root)"
   ]
  },
  {
   "cell_type": "code",
   "execution_count": 9,
   "metadata": {},
   "outputs": [],
   "source": [
    "xml_string = '''<?xml version=\"1.0\"?>\n",
    "<Company>\n",
    "  <Employee>\n",
    "      <FirstName>Tanmay</FirstName>\n",
    "      <LastName>Patil</LastName>\n",
    "      <ContactNo>1234567890</ContactNo>\n",
    "      <Email>tanmaypatil@xyz.com</Email>\n",
    "      <Address>\n",
    "           <City>Bangalore</City>\n",
    "           <State>Karnataka</State>\n",
    "           <Zip>560212</Zip>\n",
    "      </Address>\n",
    "  </Employee>\n",
    "</Company>\n",
    "'''"
   ]
  },
  {
   "cell_type": "code",
   "execution_count": 10,
   "metadata": {},
   "outputs": [
    {
     "name": "stdout",
     "output_type": "stream",
     "text": [
      "<?xml version=\"1.0\"?>\n",
      "<Company>\n",
      "  <Employee>\n",
      "      <FirstName>Tanmay</FirstName>\n",
      "      <LastName>Patil</LastName>\n",
      "      <ContactNo>1234567890</ContactNo>\n",
      "      <Email>tanmaypatil@xyz.com</Email>\n",
      "      <Address>\n",
      "           <City>Bangalore</City>\n",
      "           <State>Karnataka</State>\n",
      "           <Zip>560212</Zip>\n",
      "      </Address>\n",
      "  </Employee>\n",
      "</Company>\n",
      "\n"
     ]
    }
   ],
   "source": [
    "print(xml_string)"
   ]
  },
  {
   "cell_type": "code",
   "execution_count": 11,
   "metadata": {},
   "outputs": [],
   "source": [
    "xml_from_string = ET.fromstring(xml_string)"
   ]
  },
  {
   "cell_type": "code",
   "execution_count": 12,
   "metadata": {},
   "outputs": [
    {
     "data": {
      "text/plain": [
       "<Element 'Company' at 0x7f9f46be4ea0>"
      ]
     },
     "execution_count": 12,
     "metadata": {},
     "output_type": "execute_result"
    }
   ],
   "source": [
    "xml_from_string # вернул корневой элемент, а не ElementTree"
   ]
  },
  {
   "cell_type": "code",
   "execution_count": 14,
   "metadata": {},
   "outputs": [
    {
     "data": {
      "text/plain": [
       "<Element 'Company' at 0x7f9f46bbf680>"
      ]
     },
     "execution_count": 14,
     "metadata": {},
     "output_type": "execute_result"
    }
   ],
   "source": [
    "root"
   ]
  },
  {
   "cell_type": "code",
   "execution_count": 15,
   "metadata": {},
   "outputs": [
    {
     "data": {
      "text/plain": [
       "'Company'"
      ]
     },
     "execution_count": 15,
     "metadata": {},
     "output_type": "execute_result"
    }
   ],
   "source": [
    "root.tag"
   ]
  },
  {
   "cell_type": "code",
   "execution_count": 17,
   "metadata": {},
   "outputs": [
    {
     "data": {
      "text/plain": [
       "{}"
      ]
     },
     "execution_count": 17,
     "metadata": {},
     "output_type": "execute_result"
    }
   ],
   "source": [
    "root.attrib"
   ]
  },
  {
   "cell_type": "code",
   "execution_count": 18,
   "metadata": {},
   "outputs": [
    {
     "data": {
      "text/plain": [
       "1"
      ]
     },
     "execution_count": 18,
     "metadata": {},
     "output_type": "execute_result"
    }
   ],
   "source": [
    "len(root) # потому что один ребенок!"
   ]
  },
  {
   "cell_type": "code",
   "execution_count": 19,
   "metadata": {},
   "outputs": [
    {
     "name": "stdout",
     "output_type": "stream",
     "text": [
      "Employee {}\n"
     ]
    }
   ],
   "source": [
    "for child in root:\n",
    "    print(child.tag, child.attrib)"
   ]
  },
  {
   "cell_type": "code",
   "execution_count": 22,
   "metadata": {},
   "outputs": [
    {
     "data": {
      "text/plain": [
       "<Element 'Employee' at 0x7f9f46bbfcc0>"
      ]
     },
     "execution_count": 22,
     "metadata": {},
     "output_type": "execute_result"
    }
   ],
   "source": [
    "root[0]"
   ]
  },
  {
   "cell_type": "code",
   "execution_count": 23,
   "metadata": {},
   "outputs": [
    {
     "data": {
      "text/plain": [
       "<Element 'FirstName' at 0x7f9f46bbfd10>"
      ]
     },
     "execution_count": 23,
     "metadata": {},
     "output_type": "execute_result"
    }
   ],
   "source": [
    "root[0][0]"
   ]
  },
  {
   "cell_type": "code",
   "execution_count": 24,
   "metadata": {},
   "outputs": [
    {
     "data": {
      "text/plain": [
       "'Tanmay'"
      ]
     },
     "execution_count": 24,
     "metadata": {},
     "output_type": "execute_result"
    }
   ],
   "source": [
    "root[0][0].text"
   ]
  },
  {
   "cell_type": "code",
   "execution_count": 25,
   "metadata": {},
   "outputs": [
    {
     "name": "stdout",
     "output_type": "stream",
     "text": [
      "FirstName {}\n",
      "LastName {}\n",
      "ContactNo {}\n",
      "Email {}\n",
      "Address {}\n"
     ]
    }
   ],
   "source": [
    "for child in root[0]:\n",
    "    print(child.tag, child.attrib)"
   ]
  },
  {
   "cell_type": "code",
   "execution_count": 26,
   "metadata": {},
   "outputs": [],
   "source": [
    "import requests"
   ]
  },
  {
   "cell_type": "code",
   "execution_count": 27,
   "metadata": {},
   "outputs": [],
   "source": [
    "r = requests.get('http://iss.moex.com/iss/history/engines/stock/markets/shares/boards/tqbr/securities.xml')"
   ]
  },
  {
   "cell_type": "code",
   "execution_count": 28,
   "metadata": {},
   "outputs": [
    {
     "data": {
      "text/plain": [
       "<Response [200]>"
      ]
     },
     "execution_count": 28,
     "metadata": {},
     "output_type": "execute_result"
    }
   ],
   "source": [
    "r"
   ]
  },
  {
   "cell_type": "code",
   "execution_count": 29,
   "metadata": {},
   "outputs": [
    {
     "data": {
      "text/plain": [
       "b'<?xml version=\"1.0\" encoding=\"UTF-8\"?>\\n<document>\\n<data id=\"history\">\\n<metadata>\\n<columns>\\n<column name=\"BOARDID\" type=\"string\" bytes=\"12\" max_size=\"0\" />\\n<column name=\"TRADEDATE\" type=\"date\" bytes=\"10\" max_size=\"0\" />\\n<column name=\"SHORTNAME\" type=\"string\" bytes=\"189\" max_size=\"0\" />\\n<column name=\"SECID\" type=\"string\" bytes=\"36\" max_size=\"0\" />\\n<column name=\"NUMTRADES\" type=\"double\" />\\n<column name=\"VALUE\" type=\"double\" />\\n<column name=\"OPEN\" type=\"double\" />\\n<column name=\"LOW\" type=\"double\" />\\n<column name=\"HIGH\" type=\"double\" />\\n<column name=\"LEGALCLOSEPRICE\" type=\"double\" />\\n<column name=\"WAPRICE\" type=\"double\" />\\n<column name=\"CLOSE\" type=\"double\" />\\n<column name=\"VOLUME\" type=\"double\" />\\n<column name=\"MARKETPRICE2\" type=\"double\" />\\n<column name=\"MARKETPRICE3\" type=\"double\" />\\n<column name=\"ADMITTEDQUOTE\" type=\"double\" />\\n<column name=\"MP2VALTRD\" type=\"double\" />\\n<column name=\"MARKETPRICE3TRADESVALUE\" type=\"double\" />\\n<column name=\"ADMITTEDVALUE\" type=\"double\" />\\n<column name=\"WAV'"
      ]
     },
     "execution_count": 29,
     "metadata": {},
     "output_type": "execute_result"
    }
   ],
   "source": [
    "r.content[:1000]"
   ]
  },
  {
   "cell_type": "code",
   "execution_count": 30,
   "metadata": {},
   "outputs": [],
   "source": [
    "sec = ET.fromstring(r.content)"
   ]
  },
  {
   "cell_type": "code",
   "execution_count": 31,
   "metadata": {},
   "outputs": [
    {
     "data": {
      "text/plain": [
       "<Element 'document' at 0x7f9f4706c220>"
      ]
     },
     "execution_count": 31,
     "metadata": {},
     "output_type": "execute_result"
    }
   ],
   "source": [
    "sec"
   ]
  },
  {
   "cell_type": "code",
   "execution_count": 34,
   "metadata": {},
   "outputs": [
    {
     "data": {
      "text/plain": [
       "{'id': 'history'}"
      ]
     },
     "execution_count": 34,
     "metadata": {},
     "output_type": "execute_result"
    }
   ],
   "source": [
    "sec[0].attrib"
   ]
  },
  {
   "cell_type": "code",
   "execution_count": 35,
   "metadata": {},
   "outputs": [
    {
     "name": "stdout",
     "output_type": "stream",
     "text": [
      "column {'name': 'BOARDID', 'type': 'string', 'bytes': '12', 'max_size': '0'}\n",
      "column {'name': 'TRADEDATE', 'type': 'date', 'bytes': '10', 'max_size': '0'}\n",
      "column {'name': 'SHORTNAME', 'type': 'string', 'bytes': '189', 'max_size': '0'}\n",
      "column {'name': 'SECID', 'type': 'string', 'bytes': '36', 'max_size': '0'}\n",
      "column {'name': 'NUMTRADES', 'type': 'double'}\n",
      "column {'name': 'VALUE', 'type': 'double'}\n",
      "column {'name': 'OPEN', 'type': 'double'}\n",
      "column {'name': 'LOW', 'type': 'double'}\n",
      "column {'name': 'HIGH', 'type': 'double'}\n",
      "column {'name': 'LEGALCLOSEPRICE', 'type': 'double'}\n",
      "column {'name': 'WAPRICE', 'type': 'double'}\n",
      "column {'name': 'CLOSE', 'type': 'double'}\n",
      "column {'name': 'VOLUME', 'type': 'double'}\n",
      "column {'name': 'MARKETPRICE2', 'type': 'double'}\n",
      "column {'name': 'MARKETPRICE3', 'type': 'double'}\n",
      "column {'name': 'ADMITTEDQUOTE', 'type': 'double'}\n",
      "column {'name': 'MP2VALTRD', 'type': 'double'}\n",
      "column {'name': 'MARKETPRICE3TRADESVALUE', 'type': 'double'}\n",
      "column {'name': 'ADMITTEDVALUE', 'type': 'double'}\n",
      "column {'name': 'WAVAL', 'type': 'double'}\n",
      "column {'name': 'TRADINGSESSION', 'type': 'int32'}\n",
      "column {'name': 'INDEX', 'type': 'int64'}\n",
      "column {'name': 'TOTAL', 'type': 'int64'}\n",
      "column {'name': 'PAGESIZE', 'type': 'int64'}\n"
     ]
    }
   ],
   "source": [
    "for col in sec.iter('column'):\n",
    "    print(col.tag, col.attrib)"
   ]
  },
  {
   "cell_type": "code",
   "execution_count": 36,
   "metadata": {},
   "outputs": [
    {
     "data": {
      "text/plain": [
       "[]"
      ]
     },
     "execution_count": 36,
     "metadata": {},
     "output_type": "execute_result"
    }
   ],
   "source": [
    "sec.findall('column')"
   ]
  },
  {
   "cell_type": "code",
   "execution_count": 37,
   "metadata": {},
   "outputs": [
    {
     "data": {
      "text/plain": [
       "[<Element 'data' at 0x7f9f47075180>, <Element 'data' at 0x7f9f4706c090>]"
      ]
     },
     "execution_count": 37,
     "metadata": {},
     "output_type": "execute_result"
    }
   ],
   "source": [
    "sec.findall('data') # ищет только по детям sec, по внукам не ищет!"
   ]
  },
  {
   "cell_type": "code",
   "execution_count": 39,
   "metadata": {},
   "outputs": [
    {
     "data": {
      "text/plain": [
       "[<Element 'row' at 0x7f9f47075ea0>,\n",
       " <Element 'row' at 0x7f9f47075ef0>,\n",
       " <Element 'row' at 0x7f9f47075f40>,\n",
       " <Element 'row' at 0x7f9f47075f90>,\n",
       " <Element 'row' at 0x7f9f47089040>]"
      ]
     },
     "execution_count": 39,
     "metadata": {},
     "output_type": "execute_result"
    }
   ],
   "source": [
    "sec.findall('data/rows/row')[:5] # но можно писать путь :)"
   ]
  },
  {
   "cell_type": "code",
   "execution_count": 40,
   "metadata": {},
   "outputs": [
    {
     "name": "stdout",
     "output_type": "stream",
     "text": [
      "201\n",
      "5.92\n",
      "31.16\n",
      "70.58\n",
      "1012.6\n",
      "5966\n",
      "66\n",
      "\n",
      "134.69\n",
      "11.695\n",
      "13.63\n",
      "344\n",
      "6.39\n",
      "0.8865\n",
      "1150\n",
      "1516.5\n",
      "1174\n",
      "2798\n",
      "\n",
      "9.08\n",
      "6.88\n",
      "1241\n",
      "68.73\n",
      "22\n",
      "6.49\n",
      "306\n",
      "43\n",
      "5720\n",
      "1600.6\n",
      "4015\n",
      "14.94\n",
      "11.66\n",
      "\n",
      "10.44\n",
      "149.64\n",
      "0.804\n",
      "2140\n",
      "1720\n",
      "7.78\n",
      "172.5\n",
      "890\n",
      "0.809\n",
      "120.84\n",
      "0.22146\n",
      "17.16\n",
      "2426\n",
      "675.1\n",
      "93.98\n",
      "480.5\n",
      "412\n",
      "\n",
      "277.35\n",
      "\n",
      "\n",
      "2254\n",
      "686\n",
      "532.15\n",
      "25336\n",
      "35.1\n",
      "\n",
      "2790.5\n",
      "\n",
      "8.31\n",
      "327\n",
      "0.8656\n",
      "1048\n",
      "989\n",
      "1514\n",
      "4.845\n",
      "11.96\n",
      "24.82\n",
      "36.86\n",
      "18.75\n",
      "13.94\n",
      "289\n",
      "292.8\n",
      "128.5\n",
      "0.1925\n",
      "0.454\n",
      "52\n",
      "55.8\n",
      "9.95\n",
      "73.7\n",
      "1150\n",
      "\n",
      "53200\n",
      "13350\n",
      "16920\n",
      "\n",
      "13.51\n",
      "414.5\n",
      "312.5\n",
      "9.4\n",
      "9.58\n",
      "\n",
      "0.642\n",
      "0.301\n",
      "68.1\n",
      "\n",
      "0.0254\n"
     ]
    }
   ],
   "source": [
    "# индексация начинается с 1\n",
    "for val in sec.findall('data[1]/rows/row'):\n",
    "    print(val.attrib['CLOSE'])"
   ]
  },
  {
   "cell_type": "markdown",
   "metadata": {},
   "source": [
    "А теперь давайте сломаем файл!"
   ]
  },
  {
   "cell_type": "code",
   "execution_count": 42,
   "metadata": {},
   "outputs": [],
   "source": [
    "xml_string_broken = '''<?xml version=\"1.0\"?>\n",
    "<Company>\n",
    "  <Employee>\n",
    "      <FirstName>Tanmay</FirstName>\n",
    "      <LastName>Patil</LastName>\n",
    "      <ContactNo>1234567890</ContactNo>\n",
    "      <Email>tanmaypatil@xyz.com</Email>\n",
    "      <Address>\n",
    "           <City>Bangalore</City>\n",
    "           <State>Karnataka</State>\n",
    "           <Zip>560212</Zip>\n",
    "      </Address>\n",
    "  </Employee>\n",
    "  \n",
    "'''"
   ]
  },
  {
   "cell_type": "code",
   "execution_count": 43,
   "metadata": {},
   "outputs": [
    {
     "ename": "ParseError",
     "evalue": "no element found: line 15, column 0 (<string>)",
     "output_type": "error",
     "traceback": [
      "Traceback \u001b[0;36m(most recent call last)\u001b[0m:\n",
      "  File \u001b[1;32m\"/Users/a18509896/opt/anaconda3/lib/python3.8/site-packages/IPython/core/interactiveshell.py\"\u001b[0m, line \u001b[1;32m3418\u001b[0m, in \u001b[1;35mrun_code\u001b[0m\n    exec(code_obj, self.user_global_ns, self.user_ns)\n",
      "  File \u001b[1;32m\"<ipython-input-43-efcb783a7c85>\"\u001b[0m, line \u001b[1;32m1\u001b[0m, in \u001b[1;35m<module>\u001b[0m\n    xml_from_string_broken = ET.fromstring(xml_string_broken)\n",
      "\u001b[0;36m  File \u001b[0;32m\"/Users/a18509896/opt/anaconda3/lib/python3.8/xml/etree/ElementTree.py\"\u001b[0;36m, line \u001b[0;32m1321\u001b[0;36m, in \u001b[0;35mXML\u001b[0;36m\u001b[0m\n\u001b[0;31m    return parser.close()\u001b[0m\n",
      "\u001b[0;36m  File \u001b[0;32m\"<string>\"\u001b[0;36m, line \u001b[0;32munknown\u001b[0m\n\u001b[0;31mParseError\u001b[0m\u001b[0;31m:\u001b[0m no element found: line 15, column 0\n"
     ]
    }
   ],
   "source": [
    "xml_from_string_broken = ET.fromstring(xml_string_broken)"
   ]
  },
  {
   "cell_type": "code",
   "execution_count": 44,
   "metadata": {},
   "outputs": [],
   "source": [
    "import lxml.etree"
   ]
  },
  {
   "cell_type": "code",
   "execution_count": 45,
   "metadata": {},
   "outputs": [],
   "source": [
    "parser = lxml.etree.XMLParser(recover=True)"
   ]
  },
  {
   "cell_type": "code",
   "execution_count": 46,
   "metadata": {},
   "outputs": [],
   "source": [
    "xml_from_string_broken = lxml.etree.fromstring(xml_string_broken, parser)"
   ]
  },
  {
   "cell_type": "code",
   "execution_count": 47,
   "metadata": {},
   "outputs": [
    {
     "data": {
      "text/plain": [
       "<Element Company at 0x7f9f470af540>"
      ]
     },
     "execution_count": 47,
     "metadata": {},
     "output_type": "execute_result"
    }
   ],
   "source": [
    "xml_from_string_broken"
   ]
  },
  {
   "cell_type": "code",
   "execution_count": 48,
   "metadata": {},
   "outputs": [
    {
     "data": {
      "text/plain": [
       "1"
      ]
     },
     "execution_count": 48,
     "metadata": {},
     "output_type": "execute_result"
    }
   ],
   "source": [
    "len(xml_from_string_broken)"
   ]
  },
  {
   "cell_type": "code",
   "execution_count": 50,
   "metadata": {},
   "outputs": [
    {
     "data": {
      "text/plain": [
       "5"
      ]
     },
     "execution_count": 50,
     "metadata": {},
     "output_type": "execute_result"
    }
   ],
   "source": [
    "len(xml_from_string_broken[0])"
   ]
  },
  {
   "cell_type": "code",
   "execution_count": 51,
   "metadata": {},
   "outputs": [
    {
     "name": "stdout",
     "output_type": "stream",
     "text": [
      "FirstName Tanmay\n",
      "LastName Patil\n",
      "ContactNo 1234567890\n",
      "Email tanmaypatil@xyz.com\n",
      "Address \n",
      "           \n"
     ]
    }
   ],
   "source": [
    "for child in xml_from_string_broken[0]:\n",
    "    print(child.tag, child.text)"
   ]
  },
  {
   "cell_type": "markdown",
   "metadata": {},
   "source": [
    "## Задание"
   ]
  },
  {
   "cell_type": "markdown",
   "metadata": {},
   "source": [
    "Воспользуйтесь файлом `securities.xml` или кодом ниже для вопросов."
   ]
  },
  {
   "cell_type": "code",
   "execution_count": 52,
   "metadata": {},
   "outputs": [],
   "source": [
    "import requests\n",
    "r = requests.get('http://iss.moex.com/iss/history/engines/stock/markets/shares/boards/tqbr/securities.xml')\n",
    "sec = ET.fromstring(r.content)"
   ]
  },
  {
   "cell_type": "markdown",
   "metadata": {},
   "source": [
    "Сколько элементов в этом XML файле?"
   ]
  },
  {
   "cell_type": "code",
   "execution_count": null,
   "metadata": {},
   "outputs": [],
   "source": []
  },
  {
   "cell_type": "markdown",
   "metadata": {},
   "source": [
    "Сколько элементов 'row' в XML файле? "
   ]
  },
  {
   "cell_type": "code",
   "execution_count": null,
   "metadata": {},
   "outputs": [],
   "source": []
  },
  {
   "cell_type": "markdown",
   "metadata": {},
   "source": [
    "Каждый `row` элемент содержит информацию о какой-то ценной бумаге. Аттрибуты `CLOSE` и `OPEN` означают цену закрытия и цену открытия в этот день. Аттрибут `VOLUME` обозначаем объем торговли ценной бумагой в этот день.\n",
    "\n",
    "Какая средняя разница между ценами закрытия и открытия между всеми ценными бумагами в наборе данных? Если в данных есть пропуск, то можно не учитывать это наблюдение."
   ]
  },
  {
   "cell_type": "code",
   "execution_count": null,
   "metadata": {},
   "outputs": [],
   "source": []
  },
  {
   "cell_type": "markdown",
   "metadata": {},
   "source": [
    "У какой ценной бумаги самый большой объем торговли?"
   ]
  },
  {
   "cell_type": "code",
   "execution_count": null,
   "metadata": {},
   "outputs": [],
   "source": []
  }
 ],
 "metadata": {
  "kernelspec": {
   "display_name": "Python 3",
   "language": "python",
   "name": "python3"
  },
  "language_info": {
   "codemirror_mode": {
    "name": "ipython",
    "version": 3
   },
   "file_extension": ".py",
   "mimetype": "text/x-python",
   "name": "python",
   "nbconvert_exporter": "python",
   "pygments_lexer": "ipython3",
   "version": "3.8.5"
  },
  "toc": {
   "base_numbering": 1,
   "nav_menu": {},
   "number_sections": true,
   "sideBar": true,
   "skip_h1_title": false,
   "title_cell": "Table of Contents",
   "title_sidebar": "Contents",
   "toc_cell": false,
   "toc_position": {},
   "toc_section_display": true,
   "toc_window_display": false
  },
  "varInspector": {
   "cols": {
    "lenName": 16,
    "lenType": 16,
    "lenVar": 40
   },
   "kernels_config": {
    "python": {
     "delete_cmd_postfix": "",
     "delete_cmd_prefix": "del ",
     "library": "var_list.py",
     "varRefreshCmd": "print(var_dic_list())"
    },
    "r": {
     "delete_cmd_postfix": ") ",
     "delete_cmd_prefix": "rm(",
     "library": "var_list.r",
     "varRefreshCmd": "cat(var_dic_list()) "
    }
   },
   "types_to_exclude": [
    "module",
    "function",
    "builtin_function_or_method",
    "instance",
    "_Feature"
   ],
   "window_display": false
  }
 },
 "nbformat": 4,
 "nbformat_minor": 4
}
